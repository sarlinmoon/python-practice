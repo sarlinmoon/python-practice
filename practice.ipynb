{
  "nbformat": 4,
  "nbformat_minor": 0,
  "metadata": {
    "colab": {
      "provenance": []
    },
    "kernelspec": {
      "name": "python3",
      "display_name": "Python 3"
    },
    "language_info": {
      "name": "python"
    }
  },
  "cells": [
    {
      "cell_type": "code",
      "execution_count": 2,
      "metadata": {
        "colab": {
          "base_uri": "https://localhost:8080/"
        },
        "id": "VmNr6-b1nqjR",
        "outputId": "02095c0d-5e39-4e92-d11c-b2a10669f136"
      },
      "outputs": [
        {
          "output_type": "stream",
          "name": "stdout",
          "text": [
            "moon\n"
          ]
        }
      ],
      "source": [
        "print(\"moon\")"
      ]
    },
    {
      "cell_type": "code",
      "source": [
        "print(65)"
      ],
      "metadata": {
        "colab": {
          "base_uri": "https://localhost:8080/"
        },
        "id": "RS6dWUf0sWfK",
        "outputId": "e47c2997-b88f-45e3-c95d-268ae75db580"
      },
      "execution_count": 3,
      "outputs": [
        {
          "output_type": "stream",
          "name": "stdout",
          "text": [
            "65\n"
          ]
        }
      ]
    },
    {
      "cell_type": "code",
      "source": [
        "print(19987675354535768+65)"
      ],
      "metadata": {
        "colab": {
          "base_uri": "https://localhost:8080/"
        },
        "id": "jYsu9kbRsiNN",
        "outputId": "a3797d22-1159-4c74-b255-70c524c92c32"
      },
      "execution_count": 4,
      "outputs": [
        {
          "output_type": "stream",
          "name": "stdout",
          "text": [
            "19987675354535833\n"
          ]
        }
      ]
    },
    {
      "cell_type": "code",
      "source": [
        "print(62376537364837483793483928430439483904839483*0)"
      ],
      "metadata": {
        "colab": {
          "base_uri": "https://localhost:8080/"
        },
        "id": "1Ra16ZYdst9f",
        "outputId": "c16db04c-a7c3-4b26-d766-8546d368c878"
      },
      "execution_count": 5,
      "outputs": [
        {
          "output_type": "stream",
          "name": "stdout",
          "text": [
            "0\n"
          ]
        }
      ]
    },
    {
      "cell_type": "code",
      "source": [
        "moon=\"susmita sarlin moon\"\n",
        "print(moon)"
      ],
      "metadata": {
        "colab": {
          "base_uri": "https://localhost:8080/"
        },
        "id": "JJ1XOxRFte-B",
        "outputId": "41071c00-dc76-4f60-fbfd-c534969e2ea1"
      },
      "execution_count": 8,
      "outputs": [
        {
          "output_type": "stream",
          "name": "stdout",
          "text": [
            "susmita sarlin moon\n"
          ]
        }
      ]
    },
    {
      "cell_type": "code",
      "source": [
        "print(5+6==11)"
      ],
      "metadata": {
        "colab": {
          "base_uri": "https://localhost:8080/"
        },
        "id": "ciYc2b1HvZ2U",
        "outputId": "e7bd93af-aaef-4f66-d047-e4cad169d739"
      },
      "execution_count": 10,
      "outputs": [
        {
          "output_type": "stream",
          "name": "stdout",
          "text": [
            "True\n"
          ]
        }
      ]
    },
    {
      "cell_type": "code",
      "source": [
        "for i in range(4):\n",
        "  print(\"happy to code\", i+1)"
      ],
      "metadata": {
        "colab": {
          "base_uri": "https://localhost:8080/"
        },
        "id": "P5sh0kG1vvbt",
        "outputId": "9a3f1b09-9ea4-4a80-ff6b-da88c685f72d"
      },
      "execution_count": 18,
      "outputs": [
        {
          "output_type": "stream",
          "name": "stdout",
          "text": [
            "happy to code 1\n",
            "happy to code 2\n",
            "happy to code 3\n",
            "happy to code 4\n"
          ]
        }
      ]
    }
  ]
}